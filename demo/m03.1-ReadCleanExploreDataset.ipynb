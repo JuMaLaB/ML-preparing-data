{
 "cells": [
  {
   "cell_type": "code",
   "execution_count": 6,
   "id": "cef3110e-4bdb-473d-b40c-0fb3e44a44d7",
   "metadata": {},
   "outputs": [],
   "source": [
    "import sklearn\n",
    "\n",
    "import pandas as pd\n",
    "import numpy as np\n",
    "\n",
    "import datetime"
   ]
  },
  {
   "cell_type": "code",
   "execution_count": 4,
   "id": "e4893713-828f-4599-b3cf-5d10d8e84b60",
   "metadata": {},
   "outputs": [
    {
     "name": "stdout",
     "output_type": "stream",
     "text": [
      "1.6.1\n"
     ]
    }
   ],
   "source": [
    "print(sklearn.__version__)"
   ]
  },
  {
   "cell_type": "markdown",
   "id": "f950e0b1-3e39-48f2-9ce8-d3c30d03f82d",
   "metadata": {},
   "source": [
    "# Loading dataset\n",
    "### Auto-mpg dataset\n",
    "Source: https://www.kaggle.com/uciml/autompg-dataset"
   ]
  },
  {
   "cell_type": "code",
   "execution_count": 8,
   "id": "69a93757-f555-4a30-8377-f6af2ae2d397",
   "metadata": {},
   "outputs": [
    {
     "data": {
      "text/html": [
       "<div>\n",
       "<style scoped>\n",
       "    .dataframe tbody tr th:only-of-type {\n",
       "        vertical-align: middle;\n",
       "    }\n",
       "\n",
       "    .dataframe tbody tr th {\n",
       "        vertical-align: top;\n",
       "    }\n",
       "\n",
       "    .dataframe thead th {\n",
       "        text-align: right;\n",
       "    }\n",
       "</style>\n",
       "<table border=\"1\" class=\"dataframe\">\n",
       "  <thead>\n",
       "    <tr style=\"text-align: right;\">\n",
       "      <th></th>\n",
       "      <th>Model</th>\n",
       "      <th>MPG</th>\n",
       "      <th>Cylinders</th>\n",
       "      <th>Displacement</th>\n",
       "      <th>Horsepower</th>\n",
       "      <th>Weight</th>\n",
       "      <th>Acceleration</th>\n",
       "      <th>Year</th>\n",
       "      <th>Origin</th>\n",
       "      <th>bore</th>\n",
       "      <th>stroke</th>\n",
       "      <th>compression-ratio</th>\n",
       "    </tr>\n",
       "  </thead>\n",
       "  <tbody>\n",
       "    <tr>\n",
       "      <th>0</th>\n",
       "      <td>chevrolet chevelle malibu</td>\n",
       "      <td>18.0</td>\n",
       "      <td>8</td>\n",
       "      <td>307</td>\n",
       "      <td>130</td>\n",
       "      <td>3504</td>\n",
       "      <td>12</td>\n",
       "      <td>1970[1975]</td>\n",
       "      <td>US; Detroit, Michigan</td>\n",
       "      <td>3.47</td>\n",
       "      <td>2.68</td>\n",
       "      <td>9</td>\n",
       "    </tr>\n",
       "    <tr>\n",
       "      <th>1</th>\n",
       "      <td>buick skylark 320</td>\n",
       "      <td>15.0</td>\n",
       "      <td>8</td>\n",
       "      <td>350</td>\n",
       "      <td>165</td>\n",
       "      <td>3693</td>\n",
       "      <td>11.5</td>\n",
       "      <td>1970</td>\n",
       "      <td>US]</td>\n",
       "      <td>3.47</td>\n",
       "      <td>2.68</td>\n",
       "      <td>?</td>\n",
       "    </tr>\n",
       "    <tr>\n",
       "      <th>2</th>\n",
       "      <td>plymouth satellite</td>\n",
       "      <td>18.0</td>\n",
       "      <td>?</td>\n",
       "      <td>318</td>\n",
       "      <td>150</td>\n",
       "      <td>3436</td>\n",
       "      <td>11</td>\n",
       "      <td>1970, 1976</td>\n",
       "      <td>US</td>\n",
       "      <td>2.68</td>\n",
       "      <td>3.47</td>\n",
       "      <td>9</td>\n",
       "    </tr>\n",
       "    <tr>\n",
       "      <th>3</th>\n",
       "      <td>amc rebel sst</td>\n",
       "      <td>16.0</td>\n",
       "      <td>8</td>\n",
       "      <td>304</td>\n",
       "      <td>150</td>\n",
       "      <td>3433</td>\n",
       "      <td>12</td>\n",
       "      <td>1970</td>\n",
       "      <td>US</td>\n",
       "      <td>3.19</td>\n",
       "      <td>3.40</td>\n",
       "      <td>10</td>\n",
       "    </tr>\n",
       "    <tr>\n",
       "      <th>4</th>\n",
       "      <td>ford torino</td>\n",
       "      <td>17.0</td>\n",
       "      <td>8</td>\n",
       "      <td>302</td>\n",
       "      <td>140</td>\n",
       "      <td>3449</td>\n",
       "      <td>10.5</td>\n",
       "      <td>1970-1972</td>\n",
       "      <td>US]</td>\n",
       "      <td>3.19</td>\n",
       "      <td>3.40</td>\n",
       "      <td>8</td>\n",
       "    </tr>\n",
       "  </tbody>\n",
       "</table>\n",
       "</div>"
      ],
      "text/plain": [
       "                       Model   MPG Cylinders Displacement  Horsepower Weight  \\\n",
       "0  chevrolet chevelle malibu  18.0         8          307         130   3504   \n",
       "1          buick skylark 320  15.0         8          350         165   3693   \n",
       "2         plymouth satellite  18.0         ?          318         150   3436   \n",
       "3              amc rebel sst  16.0         8          304         150   3433   \n",
       "4                ford torino  17.0         8          302         140   3449   \n",
       "\n",
       "  Acceleration        Year                 Origin  bore  stroke  \\\n",
       "0           12  1970[1975]  US; Detroit, Michigan  3.47    2.68   \n",
       "1         11.5        1970                    US]  3.47    2.68   \n",
       "2           11  1970, 1976                     US  2.68    3.47   \n",
       "3           12        1970                     US  3.19    3.40   \n",
       "4         10.5   1970-1972                    US]  3.19    3.40   \n",
       "\n",
       "  compression-ratio  \n",
       "0                 9  \n",
       "1                 ?  \n",
       "2                 9  \n",
       "3                10  \n",
       "4                 8  "
      ]
     },
     "execution_count": 8,
     "metadata": {},
     "output_type": "execute_result"
    }
   ],
   "source": [
    "automobile_df = pd.read_csv('../datasets/cars.csv')\n",
    "\n",
    "automobile_df.head(5)"
   ]
  },
  {
   "cell_type": "code",
   "execution_count": 9,
   "id": "fa640884-80b6-4081-9a9d-9866d224becd",
   "metadata": {},
   "outputs": [
    {
     "data": {
      "text/plain": [
       "(394, 12)"
      ]
     },
     "execution_count": 9,
     "metadata": {},
     "output_type": "execute_result"
    }
   ],
   "source": [
    "automobile_df.shape"
   ]
  },
  {
   "cell_type": "code",
   "execution_count": 10,
   "id": "0bdc45e1-4d59-4c77-8942-ebd3286e3540",
   "metadata": {},
   "outputs": [
    {
     "data": {
      "text/html": [
       "<div>\n",
       "<style scoped>\n",
       "    .dataframe tbody tr th:only-of-type {\n",
       "        vertical-align: middle;\n",
       "    }\n",
       "\n",
       "    .dataframe tbody tr th {\n",
       "        vertical-align: top;\n",
       "    }\n",
       "\n",
       "    .dataframe thead th {\n",
       "        text-align: right;\n",
       "    }\n",
       "</style>\n",
       "<table border=\"1\" class=\"dataframe\">\n",
       "  <thead>\n",
       "    <tr style=\"text-align: right;\">\n",
       "      <th></th>\n",
       "      <th>Model</th>\n",
       "      <th>MPG</th>\n",
       "      <th>Cylinders</th>\n",
       "      <th>Displacement</th>\n",
       "      <th>Horsepower</th>\n",
       "      <th>Weight</th>\n",
       "      <th>Acceleration</th>\n",
       "      <th>Year</th>\n",
       "      <th>Origin</th>\n",
       "      <th>bore</th>\n",
       "      <th>stroke</th>\n",
       "      <th>compression-ratio</th>\n",
       "    </tr>\n",
       "  </thead>\n",
       "  <tbody>\n",
       "    <tr>\n",
       "      <th>0</th>\n",
       "      <td>chevrolet chevelle malibu</td>\n",
       "      <td>18.0</td>\n",
       "      <td>8</td>\n",
       "      <td>307</td>\n",
       "      <td>130</td>\n",
       "      <td>3504</td>\n",
       "      <td>12</td>\n",
       "      <td>1970[1975]</td>\n",
       "      <td>US; Detroit, Michigan</td>\n",
       "      <td>3.47</td>\n",
       "      <td>2.68</td>\n",
       "      <td>9</td>\n",
       "    </tr>\n",
       "    <tr>\n",
       "      <th>1</th>\n",
       "      <td>buick skylark 320</td>\n",
       "      <td>15.0</td>\n",
       "      <td>8</td>\n",
       "      <td>350</td>\n",
       "      <td>165</td>\n",
       "      <td>3693</td>\n",
       "      <td>11.5</td>\n",
       "      <td>1970</td>\n",
       "      <td>US]</td>\n",
       "      <td>3.47</td>\n",
       "      <td>2.68</td>\n",
       "      <td>NaN</td>\n",
       "    </tr>\n",
       "    <tr>\n",
       "      <th>2</th>\n",
       "      <td>plymouth satellite</td>\n",
       "      <td>18.0</td>\n",
       "      <td>NaN</td>\n",
       "      <td>318</td>\n",
       "      <td>150</td>\n",
       "      <td>3436</td>\n",
       "      <td>11</td>\n",
       "      <td>1970, 1976</td>\n",
       "      <td>US</td>\n",
       "      <td>2.68</td>\n",
       "      <td>3.47</td>\n",
       "      <td>9</td>\n",
       "    </tr>\n",
       "    <tr>\n",
       "      <th>3</th>\n",
       "      <td>amc rebel sst</td>\n",
       "      <td>16.0</td>\n",
       "      <td>8</td>\n",
       "      <td>304</td>\n",
       "      <td>150</td>\n",
       "      <td>3433</td>\n",
       "      <td>12</td>\n",
       "      <td>1970</td>\n",
       "      <td>US</td>\n",
       "      <td>3.19</td>\n",
       "      <td>3.40</td>\n",
       "      <td>10</td>\n",
       "    </tr>\n",
       "    <tr>\n",
       "      <th>4</th>\n",
       "      <td>ford torino</td>\n",
       "      <td>17.0</td>\n",
       "      <td>8</td>\n",
       "      <td>302</td>\n",
       "      <td>140</td>\n",
       "      <td>3449</td>\n",
       "      <td>10.5</td>\n",
       "      <td>1970-1972</td>\n",
       "      <td>US]</td>\n",
       "      <td>3.19</td>\n",
       "      <td>3.40</td>\n",
       "      <td>8</td>\n",
       "    </tr>\n",
       "  </tbody>\n",
       "</table>\n",
       "</div>"
      ],
      "text/plain": [
       "                       Model   MPG Cylinders Displacement  Horsepower Weight  \\\n",
       "0  chevrolet chevelle malibu  18.0         8          307         130   3504   \n",
       "1          buick skylark 320  15.0         8          350         165   3693   \n",
       "2         plymouth satellite  18.0       NaN          318         150   3436   \n",
       "3              amc rebel sst  16.0         8          304         150   3433   \n",
       "4                ford torino  17.0         8          302         140   3449   \n",
       "\n",
       "  Acceleration        Year                 Origin  bore  stroke  \\\n",
       "0           12  1970[1975]  US; Detroit, Michigan  3.47    2.68   \n",
       "1         11.5        1970                    US]  3.47    2.68   \n",
       "2           11  1970, 1976                     US  2.68    3.47   \n",
       "3           12        1970                     US  3.19    3.40   \n",
       "4         10.5   1970-1972                    US]  3.19    3.40   \n",
       "\n",
       "  compression-ratio  \n",
       "0                 9  \n",
       "1               NaN  \n",
       "2                 9  \n",
       "3                10  \n",
       "4                 8  "
      ]
     },
     "execution_count": 10,
     "metadata": {},
     "output_type": "execute_result"
    }
   ],
   "source": [
    "automobile_df = automobile_df.replace('?', np.nan)\n",
    "\n",
    "automobile_df.head(5)"
   ]
  },
  {
   "cell_type": "code",
   "execution_count": 11,
   "id": "f5da47ee-dfe4-4c0c-9715-ee6c09b51478",
   "metadata": {},
   "outputs": [
    {
     "data": {
      "text/plain": [
       "Model                0\n",
       "MPG                  9\n",
       "Cylinders            2\n",
       "Displacement         1\n",
       "Horsepower           0\n",
       "Weight               1\n",
       "Acceleration         1\n",
       "Year                 0\n",
       "Origin               0\n",
       "bore                 0\n",
       "stroke               0\n",
       "compression-ratio    2\n",
       "dtype: int64"
      ]
     },
     "execution_count": 11,
     "metadata": {},
     "output_type": "execute_result"
    }
   ],
   "source": [
    "automobile_df.isna().sum()"
   ]
  },
  {
   "cell_type": "code",
   "execution_count": 12,
   "id": "4c1e7ffb-51af-4f34-ba46-8b99775695c6",
   "metadata": {},
   "outputs": [
    {
     "data": {
      "text/plain": [
       "Model                0\n",
       "MPG                  0\n",
       "Cylinders            2\n",
       "Displacement         1\n",
       "Horsepower           0\n",
       "Weight               1\n",
       "Acceleration         1\n",
       "Year                 0\n",
       "Origin               0\n",
       "bore                 0\n",
       "stroke               0\n",
       "compression-ratio    2\n",
       "dtype: int64"
      ]
     },
     "execution_count": 12,
     "metadata": {},
     "output_type": "execute_result"
    }
   ],
   "source": [
    "# will fill value with moin value for all NaN MPG val\n",
    "automobile_df['MPG'] = automobile_df['MPG'].fillna(automobile_df['MPG'].mean())\n",
    "\n",
    "automobile_df.isna().sum()"
   ]
  },
  {
   "cell_type": "code",
   "execution_count": 13,
   "id": "8cbfe359-a1bc-4771-bf4e-d2217e98f98c",
   "metadata": {},
   "outputs": [
    {
     "data": {
      "text/plain": [
       "(387, 12)"
      ]
     },
     "execution_count": 13,
     "metadata": {},
     "output_type": "execute_result"
    }
   ],
   "source": [
    "automobile_df = automobile_df.dropna()\n",
    "automobile_df.shape"
   ]
  },
  {
   "cell_type": "code",
   "execution_count": 14,
   "id": "68b2616d-cb5c-4e75-9e49-5d911f991391",
   "metadata": {},
   "outputs": [
    {
     "data": {
      "text/plain": [
       "Model                0\n",
       "MPG                  0\n",
       "Cylinders            0\n",
       "Displacement         0\n",
       "Horsepower           0\n",
       "Weight               0\n",
       "Acceleration         0\n",
       "Year                 0\n",
       "Origin               0\n",
       "bore                 0\n",
       "stroke               0\n",
       "compression-ratio    0\n",
       "dtype: int64"
      ]
     },
     "execution_count": 14,
     "metadata": {},
     "output_type": "execute_result"
    }
   ],
   "source": [
    "automobile_df.isnull().sum()"
   ]
  },
  {
   "cell_type": "code",
   "execution_count": 15,
   "id": "8bd4e2fe-4a6a-4da4-b979-327521523679",
   "metadata": {},
   "outputs": [
    {
     "data": {
      "text/html": [
       "<div>\n",
       "<style scoped>\n",
       "    .dataframe tbody tr th:only-of-type {\n",
       "        vertical-align: middle;\n",
       "    }\n",
       "\n",
       "    .dataframe tbody tr th {\n",
       "        vertical-align: top;\n",
       "    }\n",
       "\n",
       "    .dataframe thead th {\n",
       "        text-align: right;\n",
       "    }\n",
       "</style>\n",
       "<table border=\"1\" class=\"dataframe\">\n",
       "  <thead>\n",
       "    <tr style=\"text-align: right;\">\n",
       "      <th></th>\n",
       "      <th>MPG</th>\n",
       "      <th>Cylinders</th>\n",
       "      <th>Displacement</th>\n",
       "      <th>Horsepower</th>\n",
       "      <th>Weight</th>\n",
       "      <th>Acceleration</th>\n",
       "      <th>Year</th>\n",
       "      <th>Origin</th>\n",
       "      <th>bore</th>\n",
       "      <th>stroke</th>\n",
       "      <th>compression-ratio</th>\n",
       "    </tr>\n",
       "  </thead>\n",
       "  <tbody>\n",
       "    <tr>\n",
       "      <th>126</th>\n",
       "      <td>15.0</td>\n",
       "      <td>6</td>\n",
       "      <td>250</td>\n",
       "      <td>100</td>\n",
       "      <td>3336</td>\n",
       "      <td>17</td>\n",
       "      <td>1974, 1975</td>\n",
       "      <td>US</td>\n",
       "      <td>3.74</td>\n",
       "      <td>2.90</td>\n",
       "      <td>9.5</td>\n",
       "    </tr>\n",
       "    <tr>\n",
       "      <th>305</th>\n",
       "      <td>26.8</td>\n",
       "      <td>6</td>\n",
       "      <td>173</td>\n",
       "      <td>115</td>\n",
       "      <td>2700</td>\n",
       "      <td>12.9</td>\n",
       "      <td>1979</td>\n",
       "      <td>US</td>\n",
       "      <td>3.50</td>\n",
       "      <td>2.80</td>\n",
       "      <td>8.8</td>\n",
       "    </tr>\n",
       "    <tr>\n",
       "      <th>279</th>\n",
       "      <td>19.8</td>\n",
       "      <td>6</td>\n",
       "      <td>200</td>\n",
       "      <td>85</td>\n",
       "      <td>2990</td>\n",
       "      <td>18.2</td>\n",
       "      <td>1979</td>\n",
       "      <td>US</td>\n",
       "      <td>3.78</td>\n",
       "      <td>3.15</td>\n",
       "      <td>9.5</td>\n",
       "    </tr>\n",
       "    <tr>\n",
       "      <th>189</th>\n",
       "      <td>22.0</td>\n",
       "      <td>6</td>\n",
       "      <td>225</td>\n",
       "      <td>100</td>\n",
       "      <td>3233</td>\n",
       "      <td>15.4</td>\n",
       "      <td>1976</td>\n",
       "      <td>US</td>\n",
       "      <td>3.19</td>\n",
       "      <td>3.40</td>\n",
       "      <td>8.5</td>\n",
       "    </tr>\n",
       "    <tr>\n",
       "      <th>183</th>\n",
       "      <td>26.0</td>\n",
       "      <td>4</td>\n",
       "      <td>98</td>\n",
       "      <td>79</td>\n",
       "      <td>2255</td>\n",
       "      <td>17.7</td>\n",
       "      <td>1976</td>\n",
       "      <td>US</td>\n",
       "      <td>3.19</td>\n",
       "      <td>3.40</td>\n",
       "      <td>9</td>\n",
       "    </tr>\n",
       "  </tbody>\n",
       "</table>\n",
       "</div>"
      ],
      "text/plain": [
       "      MPG Cylinders Displacement  Horsepower Weight Acceleration        Year  \\\n",
       "126  15.0         6          250         100   3336           17  1974, 1975   \n",
       "305  26.8         6          173         115   2700         12.9        1979   \n",
       "279  19.8         6          200          85   2990         18.2        1979   \n",
       "189  22.0         6          225         100   3233         15.4        1976   \n",
       "183  26.0         4           98          79   2255         17.7        1976   \n",
       "\n",
       "    Origin  bore  stroke compression-ratio  \n",
       "126     US  3.74    2.90               9.5  \n",
       "305     US  3.50    2.80               8.8  \n",
       "279     US  3.78    3.15               9.5  \n",
       "189     US  3.19    3.40               8.5  \n",
       "183     US  3.19    3.40                 9  "
      ]
     },
     "execution_count": 15,
     "metadata": {},
     "output_type": "execute_result"
    }
   ],
   "source": [
    "automobile_df.drop(['Model'], axis=1, inplace=True)\n",
    "automobile_df.sample(5)"
   ]
  },
  {
   "cell_type": "code",
   "execution_count": 16,
   "id": "476eb67f-ba4e-4827-8404-97be97d06775",
   "metadata": {},
   "outputs": [
    {
     "data": {
      "text/html": [
       "<div>\n",
       "<style scoped>\n",
       "    .dataframe tbody tr th:only-of-type {\n",
       "        vertical-align: middle;\n",
       "    }\n",
       "\n",
       "    .dataframe tbody tr th {\n",
       "        vertical-align: top;\n",
       "    }\n",
       "\n",
       "    .dataframe thead th {\n",
       "        text-align: right;\n",
       "    }\n",
       "</style>\n",
       "<table border=\"1\" class=\"dataframe\">\n",
       "  <thead>\n",
       "    <tr style=\"text-align: right;\">\n",
       "      <th></th>\n",
       "      <th>MPG</th>\n",
       "      <th>Cylinders</th>\n",
       "      <th>Displacement</th>\n",
       "      <th>Horsepower</th>\n",
       "      <th>Weight</th>\n",
       "      <th>Acceleration</th>\n",
       "      <th>Year</th>\n",
       "      <th>Origin</th>\n",
       "    </tr>\n",
       "  </thead>\n",
       "  <tbody>\n",
       "    <tr>\n",
       "      <th>0</th>\n",
       "      <td>18.000000</td>\n",
       "      <td>8</td>\n",
       "      <td>307</td>\n",
       "      <td>130</td>\n",
       "      <td>3504</td>\n",
       "      <td>12</td>\n",
       "      <td>1970[1975]</td>\n",
       "      <td>US; Detroit, Michigan</td>\n",
       "    </tr>\n",
       "    <tr>\n",
       "      <th>3</th>\n",
       "      <td>16.000000</td>\n",
       "      <td>8</td>\n",
       "      <td>304</td>\n",
       "      <td>150</td>\n",
       "      <td>3433</td>\n",
       "      <td>12</td>\n",
       "      <td>1970</td>\n",
       "      <td>US</td>\n",
       "    </tr>\n",
       "    <tr>\n",
       "      <th>4</th>\n",
       "      <td>17.000000</td>\n",
       "      <td>8</td>\n",
       "      <td>302</td>\n",
       "      <td>140</td>\n",
       "      <td>3449</td>\n",
       "      <td>10.5</td>\n",
       "      <td>1970-1972</td>\n",
       "      <td>US]</td>\n",
       "    </tr>\n",
       "    <tr>\n",
       "      <th>6</th>\n",
       "      <td>14.000000</td>\n",
       "      <td>8</td>\n",
       "      <td>454</td>\n",
       "      <td>220</td>\n",
       "      <td>4354</td>\n",
       "      <td>9</td>\n",
       "      <td>1970[1975]</td>\n",
       "      <td>US; Detroit, Michigan</td>\n",
       "    </tr>\n",
       "    <tr>\n",
       "      <th>7</th>\n",
       "      <td>23.551429</td>\n",
       "      <td>8</td>\n",
       "      <td>440</td>\n",
       "      <td>215</td>\n",
       "      <td>4312</td>\n",
       "      <td>8.5</td>\n",
       "      <td>1970</td>\n",
       "      <td>US</td>\n",
       "    </tr>\n",
       "  </tbody>\n",
       "</table>\n",
       "</div>"
      ],
      "text/plain": [
       "         MPG Cylinders Displacement  Horsepower Weight Acceleration  \\\n",
       "0  18.000000         8          307         130   3504           12   \n",
       "3  16.000000         8          304         150   3433           12   \n",
       "4  17.000000         8          302         140   3449         10.5   \n",
       "6  14.000000         8          454         220   4354            9   \n",
       "7  23.551429         8          440         215   4312          8.5   \n",
       "\n",
       "         Year                 Origin  \n",
       "0  1970[1975]  US; Detroit, Michigan  \n",
       "3        1970                     US  \n",
       "4   1970-1972                    US]  \n",
       "6  1970[1975]  US; Detroit, Michigan  \n",
       "7        1970                     US  "
      ]
     },
     "execution_count": 16,
     "metadata": {},
     "output_type": "execute_result"
    }
   ],
   "source": [
    "automobile_df.drop(['bore', 'stroke', 'compression-ratio'], inplace=True, axis=1)\n",
    "\n",
    "automobile_df.head()"
   ]
  },
  {
   "cell_type": "code",
   "execution_count": 17,
   "id": "2a54be22-62c3-4352-a5dd-732805ae4c55",
   "metadata": {},
   "outputs": [
    {
     "data": {
      "text/plain": [
       "0          1970[1975]\n",
       "4           1970-1972\n",
       "6          1970[1975]\n",
       "30      1971[1973]971\n",
       "35         1971[1973]\n",
       "40         1971[1973]\n",
       "44         1971[1973]\n",
       "49         1971[1973]\n",
       "56         1972[1973]\n",
       "61         1972[1973]\n",
       "65         1972[1973]\n",
       "68         1972[1973]\n",
       "73         1972[1973]\n",
       "75            1972-73\n",
       "79            1972-73\n",
       "82            1972-73\n",
       "96          1973-1974\n",
       "97         1973, 1974\n",
       "102    1973, 19741973\n",
       "105        1973, 1974\n",
       "108        1973, 1974\n",
       "112        1973, 1974\n",
       "115        1973, 1974\n",
       "126        1974, 1975\n",
       "131        1974, 1975\n",
       "134        1974, 1975\n",
       "137        1974, 1975\n",
       "139    1974, 19751974\n",
       "142        1974, 1975\n",
       "365         1982-1985\n",
       "374         1982-1985\n",
       "380         1982-1985\n",
       "383         1982-1985\n",
       "387         1982-1985\n",
       "389         1982-1985\n",
       "391         1982-1985\n",
       "Name: Year, dtype: object"
      ]
     },
     "execution_count": 17,
     "metadata": {},
     "output_type": "execute_result"
    }
   ],
   "source": [
    "# list none numeric year value\n",
    "automobile_df['Year'].loc[automobile_df['Year'].str.isnumeric() == False]"
   ]
  },
  {
   "cell_type": "code",
   "execution_count": 18,
   "id": "7b900b60-09dc-4b61-9193-6ab0c89656c7",
   "metadata": {},
   "outputs": [
    {
     "data": {
      "text/plain": [
       "dtype('int64')"
      ]
     },
     "execution_count": 18,
     "metadata": {},
     "output_type": "execute_result"
    }
   ],
   "source": [
    "# use regex to get year value\n",
    "extr = automobile_df['Year'].str.extract(r'^(\\d{4})', expand=False)\n",
    "# replace non numeric year value in dataset\n",
    "automobile_df['Year'] = pd.to_numeric(extr)\n",
    "automobile_df['Year'].dtype"
   ]
  },
  {
   "cell_type": "markdown",
   "id": "b50c2bda-0431-40f8-8f00-d41c1a380b0e",
   "metadata": {},
   "source": [
    "#### Add an age column"
   ]
  },
  {
   "cell_type": "code",
   "execution_count": 19,
   "id": "80278815-2a1c-4e02-bf21-67f63c9f589a",
   "metadata": {},
   "outputs": [
    {
     "data": {
      "text/html": [
       "<div>\n",
       "<style scoped>\n",
       "    .dataframe tbody tr th:only-of-type {\n",
       "        vertical-align: middle;\n",
       "    }\n",
       "\n",
       "    .dataframe tbody tr th {\n",
       "        vertical-align: top;\n",
       "    }\n",
       "\n",
       "    .dataframe thead th {\n",
       "        text-align: right;\n",
       "    }\n",
       "</style>\n",
       "<table border=\"1\" class=\"dataframe\">\n",
       "  <thead>\n",
       "    <tr style=\"text-align: right;\">\n",
       "      <th></th>\n",
       "      <th>MPG</th>\n",
       "      <th>Cylinders</th>\n",
       "      <th>Displacement</th>\n",
       "      <th>Horsepower</th>\n",
       "      <th>Weight</th>\n",
       "      <th>Acceleration</th>\n",
       "      <th>Origin</th>\n",
       "      <th>Age</th>\n",
       "    </tr>\n",
       "  </thead>\n",
       "  <tbody>\n",
       "    <tr>\n",
       "      <th>265</th>\n",
       "      <td>27.5</td>\n",
       "      <td>4</td>\n",
       "      <td>134</td>\n",
       "      <td>95</td>\n",
       "      <td>2560</td>\n",
       "      <td>14.2</td>\n",
       "      <td>Japan</td>\n",
       "      <td>47</td>\n",
       "    </tr>\n",
       "    <tr>\n",
       "      <th>233</th>\n",
       "      <td>26.0</td>\n",
       "      <td>4</td>\n",
       "      <td>97</td>\n",
       "      <td>75</td>\n",
       "      <td>2265</td>\n",
       "      <td>18.2</td>\n",
       "      <td>Japan</td>\n",
       "      <td>48</td>\n",
       "    </tr>\n",
       "    <tr>\n",
       "      <th>248</th>\n",
       "      <td>19.4</td>\n",
       "      <td>8</td>\n",
       "      <td>318</td>\n",
       "      <td>140</td>\n",
       "      <td>3735</td>\n",
       "      <td>13.2</td>\n",
       "      <td>US</td>\n",
       "      <td>47</td>\n",
       "    </tr>\n",
       "    <tr>\n",
       "      <th>177</th>\n",
       "      <td>22.0</td>\n",
       "      <td>4</td>\n",
       "      <td>121</td>\n",
       "      <td>98</td>\n",
       "      <td>2945</td>\n",
       "      <td>14.5</td>\n",
       "      <td>Europe</td>\n",
       "      <td>50</td>\n",
       "    </tr>\n",
       "    <tr>\n",
       "      <th>27</th>\n",
       "      <td>11.0</td>\n",
       "      <td>8</td>\n",
       "      <td>318</td>\n",
       "      <td>210</td>\n",
       "      <td>4382</td>\n",
       "      <td>15</td>\n",
       "      <td>US</td>\n",
       "      <td>55</td>\n",
       "    </tr>\n",
       "  </tbody>\n",
       "</table>\n",
       "</div>"
      ],
      "text/plain": [
       "      MPG Cylinders Displacement  Horsepower Weight Acceleration  Origin  Age\n",
       "265  27.5         4          134          95   2560         14.2   Japan   47\n",
       "233  26.0         4           97          75   2265         18.2   Japan   48\n",
       "248  19.4         8          318         140   3735         13.2      US   47\n",
       "177  22.0         4          121          98   2945         14.5  Europe   50\n",
       "27   11.0         8          318         210   4382           15      US   55"
      ]
     },
     "execution_count": 19,
     "metadata": {},
     "output_type": "execute_result"
    }
   ],
   "source": [
    "# replace year by age\n",
    "automobile_df['Age'] = datetime.datetime.now().year - automobile_df['Year']\n",
    "\n",
    "automobile_df.drop(['Year'], axis=1, inplace=True)\n",
    "\n",
    "automobile_df.sample(5)"
   ]
  },
  {
   "cell_type": "code",
   "execution_count": 20,
   "id": "6cbe09a4-e90b-42e3-bcad-02deaf73dea3",
   "metadata": {},
   "outputs": [
    {
     "data": {
      "text/plain": [
       "MPG             float64\n",
       "Cylinders        object\n",
       "Displacement     object\n",
       "Horsepower        int64\n",
       "Weight           object\n",
       "Acceleration     object\n",
       "Origin           object\n",
       "Age               int64\n",
       "dtype: object"
      ]
     },
     "execution_count": 20,
     "metadata": {},
     "output_type": "execute_result"
    }
   ],
   "source": [
    "# check types we don't want\n",
    "automobile_df.dtypes"
   ]
  },
  {
   "cell_type": "code",
   "execution_count": 21,
   "id": "007ac75b-ae01-4fad-9d5b-56a96af39b2e",
   "metadata": {},
   "outputs": [
    {
     "data": {
      "text/plain": [
       "11    -\n",
       "22    -\n",
       "32    -\n",
       "42    -\n",
       "51    -\n",
       "58    -\n",
       "69    -\n",
       "82    -\n",
       "89    -\n",
       "Name: Cylinders, dtype: object"
      ]
     },
     "execution_count": 21,
     "metadata": {},
     "output_type": "execute_result"
    }
   ],
   "source": [
    "automobile_df['Cylinders'].loc[automobile_df['Cylinders'].str.isnumeric() == False]"
   ]
  },
  {
   "cell_type": "code",
   "execution_count": 23,
   "id": "7319c131-580b-4dd7-ac06-71ffd242b937",
   "metadata": {},
   "outputs": [
    {
     "data": {
      "text/plain": [
       "MPG             float64\n",
       "Cylinders         int64\n",
       "Displacement     object\n",
       "Horsepower        int64\n",
       "Weight           object\n",
       "Acceleration     object\n",
       "Origin           object\n",
       "Age               int64\n",
       "dtype: object"
      ]
     },
     "execution_count": 23,
     "metadata": {},
     "output_type": "execute_result"
    }
   ],
   "source": [
    "# extract all values that are not \"-\" / calculate the average / affect average value to \"-\"\n",
    "cylinders = automobile_df['Cylinders'].loc[automobile_df['Cylinders'] != '-']\n",
    "cmean = cylinders.astype(int).mean()\n",
    "automobile_df['Cylinders'] = automobile_df['Cylinders'].replace('-', cmean).astype(int)\n",
    "automobile_df.dtypes"
   ]
  },
  {
   "cell_type": "code",
   "execution_count": 25,
   "id": "2470bc97-af2b-4b30-ac70-40c8e4a89a97",
   "metadata": {},
   "outputs": [],
   "source": [
    "automobile_df['Displacement'] = pd.to_numeric(automobile_df['Displacement'], errors='coerce')\n",
    "automobile_df['Weight'] = pd.to_numeric(automobile_df['Weight'], errors='coerce')\n",
    "automobile_df['Acceleration'] = pd.to_numeric(automobile_df['Acceleration'], errors='coerce')"
   ]
  },
  {
   "cell_type": "code",
   "execution_count": 26,
   "id": "8e01ac01-8992-4696-b990-a8bbc6397067",
   "metadata": {},
   "outputs": [
    {
     "data": {
      "text/plain": [
       "0     US; Detroit, Michigan\n",
       "3                        US\n",
       "4                       US]\n",
       "6     US; Detroit, Michigan\n",
       "7                        US\n",
       "8                        US\n",
       "9                       US]\n",
       "10                       US\n",
       "11                       US\n",
       "12    US; Detroit, Michigan\n",
       "13                       US\n",
       "14             Japan; Aichi\n",
       "15                       US\n",
       "16                      US]\n",
       "17                       US\n",
       "Name: Origin, dtype: object"
      ]
     },
     "execution_count": 26,
     "metadata": {},
     "output_type": "execute_result"
    }
   ],
   "source": [
    "automobile_df['Origin'].head(15)"
   ]
  },
  {
   "cell_type": "code",
   "execution_count": 27,
   "id": "77484fd8-3213-4a93-8f2e-edffda1d307c",
   "metadata": {},
   "outputs": [
    {
     "data": {
      "text/plain": [
       "array(['US; Detroit, Michigan', 'US', 'US]', 'Japan; Aichi',\n",
       "       'Europe-Germany', 'Europe', 'Japan; Tokyo', 'Japan; Aichi]',\n",
       "       'US; Detroit, Michigan]', 'Japan; Tokyo]', 'Japan',\n",
       "       'Europe Germany'], dtype=object)"
      ]
     },
     "execution_count": 27,
     "metadata": {},
     "output_type": "execute_result"
    }
   ],
   "source": [
    "automobile_df['Origin'].unique()"
   ]
  },
  {
   "cell_type": "code",
   "execution_count": 28,
   "id": "43d3ecac-f73c-4c73-88d3-9849b8a2fc50",
   "metadata": {},
   "outputs": [
    {
     "data": {
      "text/plain": [
       "array(['US', 'Japan', 'Europe'], dtype=object)"
      ]
     },
     "execution_count": 28,
     "metadata": {},
     "output_type": "execute_result"
    }
   ],
   "source": [
    "automobile_df['Origin'] = np.where(automobile_df['Origin'].str.contains('US'), 'US', automobile_df['Origin'])\n",
    "automobile_df['Origin'] = np.where(automobile_df['Origin'].str.contains('Japan'), 'Japan', automobile_df['Origin'])\n",
    "automobile_df['Origin'] = np.where(automobile_df['Origin'].str.contains('Europe'), 'Europe', automobile_df['Origin'])\n",
    "automobile_df['Origin'].unique()"
   ]
  },
  {
   "cell_type": "code",
   "execution_count": 29,
   "id": "dd27ab8f-1cd2-4f89-adbd-15e821d85513",
   "metadata": {},
   "outputs": [
    {
     "data": {
      "text/html": [
       "<div>\n",
       "<style scoped>\n",
       "    .dataframe tbody tr th:only-of-type {\n",
       "        vertical-align: middle;\n",
       "    }\n",
       "\n",
       "    .dataframe tbody tr th {\n",
       "        vertical-align: top;\n",
       "    }\n",
       "\n",
       "    .dataframe thead th {\n",
       "        text-align: right;\n",
       "    }\n",
       "</style>\n",
       "<table border=\"1\" class=\"dataframe\">\n",
       "  <thead>\n",
       "    <tr style=\"text-align: right;\">\n",
       "      <th></th>\n",
       "      <th>MPG</th>\n",
       "      <th>Cylinders</th>\n",
       "      <th>Displacement</th>\n",
       "      <th>Horsepower</th>\n",
       "      <th>Weight</th>\n",
       "      <th>Acceleration</th>\n",
       "      <th>Age</th>\n",
       "    </tr>\n",
       "  </thead>\n",
       "  <tbody>\n",
       "    <tr>\n",
       "      <th>count</th>\n",
       "      <td>387.000000</td>\n",
       "      <td>387.000000</td>\n",
       "      <td>387.000000</td>\n",
       "      <td>387.000000</td>\n",
       "      <td>387.000000</td>\n",
       "      <td>387.000000</td>\n",
       "      <td>387.000000</td>\n",
       "    </tr>\n",
       "    <tr>\n",
       "      <th>mean</th>\n",
       "      <td>23.672514</td>\n",
       "      <td>5.410853</td>\n",
       "      <td>192.184755</td>\n",
       "      <td>103.645995</td>\n",
       "      <td>2965.387597</td>\n",
       "      <td>15.573643</td>\n",
       "      <td>48.917313</td>\n",
       "    </tr>\n",
       "    <tr>\n",
       "      <th>std</th>\n",
       "      <td>7.736579</td>\n",
       "      <td>1.667795</td>\n",
       "      <td>103.703706</td>\n",
       "      <td>38.128651</td>\n",
       "      <td>846.332848</td>\n",
       "      <td>2.746260</td>\n",
       "      <td>3.668715</td>\n",
       "    </tr>\n",
       "    <tr>\n",
       "      <th>min</th>\n",
       "      <td>9.000000</td>\n",
       "      <td>3.000000</td>\n",
       "      <td>68.000000</td>\n",
       "      <td>46.000000</td>\n",
       "      <td>1613.000000</td>\n",
       "      <td>8.000000</td>\n",
       "      <td>43.000000</td>\n",
       "    </tr>\n",
       "    <tr>\n",
       "      <th>25%</th>\n",
       "      <td>17.600000</td>\n",
       "      <td>4.000000</td>\n",
       "      <td>102.500000</td>\n",
       "      <td>75.000000</td>\n",
       "      <td>2221.500000</td>\n",
       "      <td>13.900000</td>\n",
       "      <td>46.000000</td>\n",
       "    </tr>\n",
       "    <tr>\n",
       "      <th>50%</th>\n",
       "      <td>23.200000</td>\n",
       "      <td>4.000000</td>\n",
       "      <td>146.000000</td>\n",
       "      <td>92.000000</td>\n",
       "      <td>2790.000000</td>\n",
       "      <td>15.500000</td>\n",
       "      <td>49.000000</td>\n",
       "    </tr>\n",
       "    <tr>\n",
       "      <th>75%</th>\n",
       "      <td>29.000000</td>\n",
       "      <td>6.000000</td>\n",
       "      <td>260.000000</td>\n",
       "      <td>121.000000</td>\n",
       "      <td>3589.500000</td>\n",
       "      <td>17.050000</td>\n",
       "      <td>52.000000</td>\n",
       "    </tr>\n",
       "    <tr>\n",
       "      <th>max</th>\n",
       "      <td>46.600000</td>\n",
       "      <td>8.000000</td>\n",
       "      <td>455.000000</td>\n",
       "      <td>230.000000</td>\n",
       "      <td>5140.000000</td>\n",
       "      <td>24.800000</td>\n",
       "      <td>55.000000</td>\n",
       "    </tr>\n",
       "  </tbody>\n",
       "</table>\n",
       "</div>"
      ],
      "text/plain": [
       "              MPG   Cylinders  Displacement  Horsepower       Weight  \\\n",
       "count  387.000000  387.000000    387.000000  387.000000   387.000000   \n",
       "mean    23.672514    5.410853    192.184755  103.645995  2965.387597   \n",
       "std      7.736579    1.667795    103.703706   38.128651   846.332848   \n",
       "min      9.000000    3.000000     68.000000   46.000000  1613.000000   \n",
       "25%     17.600000    4.000000    102.500000   75.000000  2221.500000   \n",
       "50%     23.200000    4.000000    146.000000   92.000000  2790.000000   \n",
       "75%     29.000000    6.000000    260.000000  121.000000  3589.500000   \n",
       "max     46.600000    8.000000    455.000000  230.000000  5140.000000   \n",
       "\n",
       "       Acceleration         Age  \n",
       "count    387.000000  387.000000  \n",
       "mean      15.573643   48.917313  \n",
       "std        2.746260    3.668715  \n",
       "min        8.000000   43.000000  \n",
       "25%       13.900000   46.000000  \n",
       "50%       15.500000   49.000000  \n",
       "75%       17.050000   52.000000  \n",
       "max       24.800000   55.000000  "
      ]
     },
     "execution_count": 29,
     "metadata": {},
     "output_type": "execute_result"
    }
   ],
   "source": [
    "automobile_df.describe()"
   ]
  },
  {
   "cell_type": "markdown",
   "id": "cf733c98-d029-4266-8f4b-bf570f17ac4e",
   "metadata": {},
   "source": [
    "### Visualizing relationships"
   ]
  },
  {
   "cell_type": "code",
   "execution_count": 31,
   "id": "6335cda0-1ef6-4317-92e2-b71957716259",
   "metadata": {},
   "outputs": [
    {
     "data": {
      "text/plain": [
       "Text(0, 0.5, 'Miles per gallon')"
      ]
     },
     "execution_count": 31,
     "metadata": {},
     "output_type": "execute_result"
    },
    {
     "data": {
      "image/png": "[encoded data removed]",
      "text/plain": [
       "<Figure size 800x800 with 1 Axes>"
      ]
     },
     "metadata": {},
     "output_type": "display_data"
    }
   ],
   "source": [
    "automobile_df.to_csv('../datasets/cars_processed.csv', index=False)\n",
    "\n",
    "import matplotlib.pyplot as plt\n",
    "\n",
    "plt.figure(figsize=(8, 8))\n",
    "\n",
    "plt.bar(automobile_df['Age'], automobile_df['MPG'])\n",
    "\n",
    "plt.xlabel('Age')\n",
    "plt.ylabel('Miles per gallon')"
   ]
  },
  {
   "cell_type": "code",
   "execution_count": 32,
   "id": "47a22730-b12e-498a-9193-eb9bcfb0e535",
   "metadata": {},
   "outputs": [
    {
     "data": {
      "text/plain": [
       "Text(0, 0.5, 'Miles per gallon')"
      ]
     },
     "execution_count": 32,
     "metadata": {},
     "output_type": "execute_result"
    },
    {
     "data": {
      "image/png": "[encoded data removed]",
      "text/plain": [
       "<Figure size 800x800 with 1 Axes>"
      ]
     },
     "metadata": {},
     "output_type": "display_data"
    }
   ],
   "source": [
    "plt.figure(figsize=(8, 8))\n",
    "\n",
    "plt.scatter(automobile_df['Acceleration'], automobile_df['MPG'], color='g')\n",
    "\n",
    "plt.xlabel('Acceleration')\n",
    "plt.ylabel('Miles per gallon')"
   ]
  },
  {
   "cell_type": "code",
   "execution_count": 33,
   "id": "4bb81708-86f2-464b-ae73-9cf618ca93c6",
   "metadata": {},
   "outputs": [
    {
     "data": {
      "text/plain": [
       "Text(0, 0.5, 'Miles per gallon')"
      ]
     },
     "execution_count": 33,
     "metadata": {},
     "output_type": "execute_result"
    },
    {
     "data": {
      "image/png": "[encoded data removed]",
      "text/plain": [
       "<Figure size 800x800 with 1 Axes>"
      ]
     },
     "metadata": {},
     "output_type": "display_data"
    }
   ],
   "source": [
    "plt.figure(figsize=(8, 8))\n",
    "\n",
    "plt.scatter(automobile_df['Weight'], automobile_df['MPG'], color='r')\n",
    "\n",
    "plt.xlabel('Weight')\n",
    "plt.ylabel('Miles per gallon')"
   ]
  },
  {
   "cell_type": "code",
   "execution_count": 34,
   "id": "f68a5be0-2ed4-427a-b893-f69b84f8d8f9",
   "metadata": {},
   "outputs": [
    {
     "data": {
      "image/png": "[encoded data removed]",
      "text/plain": [
       "<Figure size 1000x800 with 2 Axes>"
      ]
     },
     "metadata": {},
     "output_type": "display_data"
    }
   ],
   "source": [
    "automobile_df.plot.scatter(x='Weight',\n",
    "                           y='Acceleration',\n",
    "                           c='Horsepower',\n",
    "                           colormap='viridis',\n",
    "                           figsize=(10, 8));"
   ]
  },
  {
   "cell_type": "code",
   "execution_count": 35,
   "id": "f790a225-5357-4f55-a2ee-9c521097f608",
   "metadata": {},
   "outputs": [
    {
     "data": {
      "text/plain": [
       "Text(0, 0.5, 'Miles per gallon')"
      ]
     },
     "execution_count": 35,
     "metadata": {},
     "output_type": "execute_result"
    },
    {
     "data": {
      "image/png": "[encoded data removed]",
      "text/plain": [
       "<Figure size 800x800 with 1 Axes>"
      ]
     },
     "metadata": {},
     "output_type": "display_data"
    }
   ],
   "source": [
    "plt.figure(figsize=(8, 8))\n",
    "\n",
    "plt.bar(automobile_df['Cylinders'], automobile_df['MPG'])\n",
    "\n",
    "plt.xlabel('Cylinders')\n",
    "plt.ylabel('Miles per gallon')"
   ]
  },
  {
   "cell_type": "code",
   "execution_count": null,
   "id": "4a985ae1-b638-4f3b-a99b-13a9be67ae70",
   "metadata": {},
   "outputs": [],
   "source": []
  }
 ],
 "metadata": {
  "kernelspec": {
   "display_name": "Python 3 (ipykernel)",
   "language": "python",
   "name": "python3"
  },
  "language_info": {
   "codemirror_mode": {
    "name": "ipython",
    "version": 3
   },
   "file_extension": ".py",
   "mimetype": "text/x-python",
   "name": "python",
   "nbconvert_exporter": "python",
   "pygments_lexer": "ipython3",
   "version": "3.10.2"
  }
 },
 "nbformat": 4,
 "nbformat_minor": 5
}
