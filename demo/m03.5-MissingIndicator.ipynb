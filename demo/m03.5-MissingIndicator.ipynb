{
 "cells": [
  {
   "cell_type": "code",
   "execution_count": 1,
   "id": "55a26da1-77dd-4078-8499-342c21111ebc",
   "metadata": {},
   "outputs": [],
   "source": [
    "import pandas as pd\n",
    "import numpy as np\n",
    "\n",
    "from sklearn.impute import MissingIndicator"
   ]
  },
  {
   "cell_type": "code",
   "execution_count": 2,
   "id": "f4fd3784-4daa-43a6-aead-99abebdba060",
   "metadata": {},
   "outputs": [],
   "source": [
    "features = [[4, 2, 1], \n",
    "            [24, 12, 6], \n",
    "            [8, 4, 2], \n",
    "            [28, 14, 7], \n",
    "            [32, 16, -1], \n",
    "            [600, 300, 150], \n",
    "            [-1, 60, 30], \n",
    "            [-1, 4, 1]]"
   ]
  },
  {
   "cell_type": "code",
   "execution_count": 3,
   "id": "ed08f5fb-f564-4dc1-8e1d-1e4a52a8e50f",
   "metadata": {},
   "outputs": [],
   "source": [
    "indicator = MissingIndicator(missing_values=-1)"
   ]
  },
  {
   "cell_type": "code",
   "execution_count": 4,
   "id": "71519a4e-75bb-43da-b622-e2ad91cecd7e",
   "metadata": {},
   "outputs": [
    {
     "data": {
      "text/plain": [
       "array([[False, False],\n",
       "       [False, False],\n",
       "       [False, False],\n",
       "       [False, False],\n",
       "       [False,  True],\n",
       "       [False, False],\n",
       "       [ True, False],\n",
       "       [ True, False]])"
      ]
     },
     "execution_count": 4,
     "metadata": {},
     "output_type": "execute_result"
    }
   ],
   "source": [
    "mask_missing_values_only = indicator.fit_transform(features)\n",
    "\n",
    "mask_missing_values_only"
   ]
  },
  {
   "cell_type": "code",
   "execution_count": 5,
   "id": "f51e9ac5-c518-462d-81dc-7c0a5dd2b559",
   "metadata": {},
   "outputs": [
    {
     "data": {
      "text/plain": [
       "array([0, 2])"
      ]
     },
     "execution_count": 5,
     "metadata": {},
     "output_type": "execute_result"
    }
   ],
   "source": [
    "indicator.features_"
   ]
  },
  {
   "cell_type": "code",
   "execution_count": 6,
   "id": "a38b82bd-d33b-458f-9d51-9ff5ea55588b",
   "metadata": {},
   "outputs": [
    {
     "data": {
      "text/plain": [
       "array([[False, False, False],\n",
       "       [False, False, False],\n",
       "       [False, False, False],\n",
       "       [False, False, False],\n",
       "       [False, False,  True],\n",
       "       [False, False, False],\n",
       "       [ True, False, False],\n",
       "       [ True, False, False]])"
      ]
     },
     "execution_count": 6,
     "metadata": {},
     "output_type": "execute_result"
    }
   ],
   "source": [
    "indicator = MissingIndicator(missing_values=-1, features=\"all\")\n",
    "mask_all = indicator.fit_transform(features)\n",
    "\n",
    "mask_all"
   ]
  },
  {
   "cell_type": "code",
   "execution_count": 7,
   "id": "001e215c-f52d-454e-9be5-5d046f0569e1",
   "metadata": {},
   "outputs": [
    {
     "data": {
      "text/plain": [
       "array([0, 1, 2])"
      ]
     },
     "execution_count": 7,
     "metadata": {},
     "output_type": "execute_result"
    }
   ],
   "source": [
    "indicator.features_"
   ]
  },
  {
   "cell_type": "code",
   "execution_count": null,
   "id": "6fa81deb-bce9-4d6c-815f-930cef878cac",
   "metadata": {},
   "outputs": [],
   "source": []
  }
 ],
 "metadata": {
  "kernelspec": {
   "display_name": "Python 3 (ipykernel)",
   "language": "python",
   "name": "python3"
  },
  "language_info": {
   "codemirror_mode": {
    "name": "ipython",
    "version": 3
   },
   "file_extension": ".py",
   "mimetype": "text/x-python",
   "name": "python",
   "nbconvert_exporter": "python",
   "pygments_lexer": "ipython3",
   "version": "3.10.2"
  }
 },
 "nbformat": 4,
 "nbformat_minor": 5
}
